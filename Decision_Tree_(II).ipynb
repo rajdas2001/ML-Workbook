{
  "nbformat": 4,
  "nbformat_minor": 0,
  "metadata": {
    "colab": {
      "name": "Decision Tree (II).ipynb",
      "provenance": [],
      "authorship_tag": "ABX9TyOwRJtuFMyjYQvGrWiJ9fAx",
      "include_colab_link": true
    },
    "kernelspec": {
      "name": "python3",
      "display_name": "Python 3"
    },
    "language_info": {
      "name": "python"
    }
  },
  "cells": [
    {
      "cell_type": "markdown",
      "metadata": {
        "id": "view-in-github",
        "colab_type": "text"
      },
      "source": [
        "<a href=\"https://colab.research.google.com/github/rajdas2001/ML-Workbook/blob/main/Decision_Tree_(II).ipynb\" target=\"_parent\"><img src=\"https://colab.research.google.com/assets/colab-badge.svg\" alt=\"Open In Colab\"/></a>"
      ]
    },
    {
      "cell_type": "code",
      "metadata": {
        "colab": {
          "base_uri": "https://localhost:8080/"
        },
        "id": "nGy-zUabcB1I",
        "outputId": "2e84d459-4dab-4b86-8393-a28e57430883"
      },
      "source": [
        "import numpy as np\n",
        "from sklearn.tree import DecisionTreeClassifier\n",
        "from sklearn.model_selection import train_test_split\n",
        "from sklearn.model_selection import cross_validate\n",
        "from sklearn.metrics import confusion_matrix\n",
        "from sklearn.metrics import accuracy_score\n",
        "from sklearn import datasets\n",
        "\n",
        "iris_data = datasets.load_iris()\n",
        "features = iris_data.data\n",
        "targets = iris_data.target\n",
        "\n",
        "feature_train, feature_test, target_train, traget_test = train_test_split(features, targets, test_size=0.2)\n",
        "model = DecisionTreeClassifier(criterion='entropy')\n",
        "predicted = cross_validate(model, features, targets, cv=10)\n",
        "print(np.mean(predicted['test_score']))"
      ],
      "execution_count": 4,
      "outputs": [
        {
          "output_type": "stream",
          "text": [
            "0.9533333333333334\n"
          ],
          "name": "stdout"
        }
      ]
    },
    {
      "cell_type": "code",
      "metadata": {
        "colab": {
          "base_uri": "https://localhost:8080/"
        },
        "id": "4gJkMt-oaHA9",
        "outputId": "f3b1a312-edc4-4f98-fc5d-1a854b2c0037"
      },
      "source": [
        "import numpy as np\n",
        "from sklearn.tree import DecisionTreeClassifier\n",
        "from sklearn.model_selection import train_test_split\n",
        "from sklearn.model_selection import cross_validate\n",
        "from sklearn.metrics import confusion_matrix\n",
        "from sklearn.metrics import accuracy_score\n",
        "from sklearn import datasets\n",
        "\n",
        "iris_data = datasets.load_iris()\n",
        "\n",
        "iris_data = datasets.load_iris()\n",
        "features = iris_data.data\n",
        "targets = iris_data.target\n",
        "\n",
        "#with grid search you can find an optimal parameter \"parameter tuning\"\n",
        "param_grid = {'max_depth': np.arange(1, 10)}\n",
        "\n",
        "#in every iteration data is splitted randomly in cross validation + DecisionTreeClassifier\n",
        "#initializes the tree randomly: thats why you get different results !!!\n",
        "tree = GridSearchCV(DecisionTreeClassifier(), param_grid)\n",
        "\n",
        "feature_train, feature_test, target_train, traget_test = train_test_split(features, targets, test_size=0.2)\n",
        "\n",
        "tree.fit(feature_train, target_train)\n",
        "tree_predictions = tree.predict_proba(feature_test)[:, 1]\n",
        "\n",
        "print(\"Best parameter with Grid Search: \", tree.best_params_)\n",
        "\n"
      ],
      "execution_count": 3,
      "outputs": [
        {
          "output_type": "stream",
          "text": [
            "Best parameter with Grid Search:  {'max_depth': 8}\n"
          ],
          "name": "stdout"
        }
      ]
    }
  ]
}