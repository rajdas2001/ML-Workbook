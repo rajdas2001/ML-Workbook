{
  "nbformat": 4,
  "nbformat_minor": 0,
  "metadata": {
    "colab": {
      "name": "SVM",
      "provenance": [],
      "authorship_tag": "ABX9TyOTHSq3eFGrpSB6DXaEilF0",
      "include_colab_link": true
    },
    "kernelspec": {
      "name": "python3",
      "display_name": "Python 3"
    },
    "language_info": {
      "name": "python"
    }
  },
  "cells": [
    {
      "cell_type": "markdown",
      "metadata": {
        "id": "view-in-github",
        "colab_type": "text"
      },
      "source": [
        "<a href=\"https://colab.research.google.com/github/rajdas2001/ML-Workbook/blob/main/SVM.ipynb\" target=\"_parent\"><img src=\"https://colab.research.google.com/assets/colab-badge.svg\" alt=\"Open In Colab\"/></a>"
      ]
    },
    {
      "cell_type": "code",
      "metadata": {
        "colab": {
          "base_uri": "https://localhost:8080/"
        },
        "id": "Ecpl4YilK_DB",
        "outputId": "34883009-605c-42aa-a26e-0094a3554bb2"
      },
      "source": [
        "from sklearn import svm\n",
        "from sklearn.model_selection import train_test_split\n",
        "from sklearn.metrics import confusion_matrix\n",
        "from sklearn.metrics import accuracy_score\n",
        "\n",
        "from sklearn import datasets\n",
        "\n",
        "iris_data = datasets.load_iris()\n",
        "features = iris_data.data\n",
        "target = iris_data.target\n",
        "\n",
        "feature_train, feature_test, target_train, target_test = train_test_split(features, target, test_size=0.3)\n",
        "model=svm.SVC()\n",
        "fitted_model = model.fit(feature_train, target_train)\n",
        "predictions = fitted_model.predict(feature_test)\n",
        "\n",
        "print(predictions)"
      ],
      "execution_count": 6,
      "outputs": [
        {
          "output_type": "stream",
          "text": [
            "[1 2 1 1 2 1 1 0 0 2 1 0 1 0 2 1 0 2 0 2 1 2 2 1 2 1 2 0 2 1 0 0 1 2 0 1 1\n",
            " 2 1 2 0 0 2 1 0]\n"
          ],
          "name": "stdout"
        }
      ]
    },
    {
      "cell_type": "code",
      "metadata": {
        "colab": {
          "base_uri": "https://localhost:8080/"
        },
        "id": "gb2qPTvCNANP",
        "outputId": "2b23296e-e316-4157-a0e9-8b7b8d261eb7"
      },
      "source": [
        "print(confusion_matrix(target_test, predictions))\n",
        "print(accuracy_score(target_test, predictions))"
      ],
      "execution_count": 8,
      "outputs": [
        {
          "output_type": "stream",
          "text": [
            "[[13  0  0]\n",
            " [ 0 17  0]\n",
            " [ 0  0 15]]\n",
            "1.0\n"
          ],
          "name": "stdout"
        }
      ]
    }
  ]
}