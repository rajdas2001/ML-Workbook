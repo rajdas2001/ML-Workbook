{
  "nbformat": 4,
  "nbformat_minor": 0,
  "metadata": {
    "colab": {
      "name": "KNN (I)",
      "provenance": [],
      "authorship_tag": "ABX9TyPX22OwK/7iyZeF65yerI38",
      "include_colab_link": true
    },
    "kernelspec": {
      "name": "python3",
      "display_name": "Python 3"
    },
    "language_info": {
      "name": "python"
    }
  },
  "cells": [
    {
      "cell_type": "markdown",
      "metadata": {
        "id": "view-in-github",
        "colab_type": "text"
      },
      "source": [
        "<a href=\"https://colab.research.google.com/github/rajdas2001/ML-Workbook/blob/main/KNN_(I).ipynb\" target=\"_parent\"><img src=\"https://colab.research.google.com/assets/colab-badge.svg\" alt=\"Open In Colab\"/></a>"
      ]
    },
    {
      "cell_type": "code",
      "metadata": {
        "colab": {
          "base_uri": "https://localhost:8080/",
          "height": 286
        },
        "id": "NYb2Jm6JYOQY",
        "outputId": "2534c629-de4d-4a74-cfc8-1e54e39d0415"
      },
      "source": [
        "import numpy as np\n",
        "from matplotlib import pyplot as plt\n",
        "from sklearn.neighbors import KNeighborsClassifier\n",
        "\n",
        "xBlue = np.array([0.3,0.5,1,1.4,1.7,2])\n",
        "yBlue = np.array([1,4.5,2.3,1.9,8.9,4.1])\n",
        "\n",
        "xRed = np.array([3.3,3.5,4,4.4,5.7,6])\n",
        "yRed = np.array([7,1.5,6.3,1.9,2.9,7.1])\n",
        "\n",
        "X = np.array([[0.3,1],[0.5,4.5],[1,2.3],[1.4,1.9],[1.7,8.9],[2,4.1],[3.3,7],[3.5,1.5],[4,6.3],[4.4,1.9],[5.7,2.9],[6,7.1]])\n",
        "y = np.array([0,0,0,0,0,0,1,1,1,1,1,1]) # 0: blue class, 1: red class\n",
        "\n",
        "plt.plot(xBlue, yBlue, 'ro', color = 'blue')\n",
        "plt.plot(xRed, yRed, 'ro', color='red')\n",
        "plt.plot(3,5,'ro',color='green', markersize=15)\n",
        "plt.axis([-0.5,10,-0.5,10])\n",
        "\n",
        "classifier = KNeighborsClassifier(n_neighbors=3) # this is the k value\n",
        "classifier.fit(X,y)\n",
        "\n",
        "pred = classifier.predict(np.array([[5,5]]))\n",
        "print(pred)\n",
        "\n",
        "plt.show()\n"
      ],
      "execution_count": 1,
      "outputs": [
        {
          "output_type": "stream",
          "text": [
            "[1]\n"
          ],
          "name": "stdout"
        },
        {
          "output_type": "display_data",
          "data": {
            "image/png": "[encoded data removed]",
            "text/plain": [
              "<Figure size 432x288 with 1 Axes>"
            ]
          },
          "metadata": {
            "tags": [],
            "needs_background": "light"
          }
        }
      ]
    }
  ]
}