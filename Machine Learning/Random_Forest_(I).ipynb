{
  "nbformat": 4,
  "nbformat_minor": 0,
  "metadata": {
    "colab": {
      "name": "Random Forest (I).ipynb",
      "provenance": [],
      "authorship_tag": "ABX9TyP/hLlG3dyuzE4WyvD20Iac",
      "include_colab_link": true
    },
    "kernelspec": {
      "name": "python3",
      "display_name": "Python 3"
    },
    "language_info": {
      "name": "python"
    }
  },
  "cells": [
    {
      "cell_type": "markdown",
      "metadata": {
        "id": "view-in-github",
        "colab_type": "text"
      },
      "source": [
        "<a href=\"https://colab.research.google.com/github/rajdas2001/ML-Workbook/blob/main/Random_Forest_(I).ipynb\" target=\"_parent\"><img src=\"https://colab.research.google.com/assets/colab-badge.svg\" alt=\"Open In Colab\"/></a>"
      ]
    },
    {
      "cell_type": "code",
      "metadata": {
        "colab": {
          "base_uri": "https://localhost:8080/"
        },
        "id": "Rylg8R3We0XC",
        "outputId": "328509ab-0a75-48a2-911f-1629ec85dc6d"
      },
      "source": [
        "from sklearn.ensemble import RandomForestClassifier\n",
        "from sklearn.model_selection import train_test_split\n",
        "from sklearn.metrics import confusion_matrix\n",
        "from sklearn.metrics import accuracy_score\n",
        "from sklearn import datasets\n",
        "\n",
        "dataset = datasets.load_iris()\n",
        "\n",
        "features = dataset.data\n",
        "targets = dataset.target\n",
        "\n",
        "feature_train, feature_test, target_train, target_test = train_test_split(features, targets, test_size=.2)\n",
        "\n",
        "model = RandomForestClassifier(n_estimators=1000, max_features='sqrt')\n",
        "fitted_model = model.fit(feature_train, target_train)\n",
        "predictions = fitted_model.predict(feature_test)\n",
        "\n",
        "print(confusion_matrix(target_test, predictions))\n",
        "print(accuracy_score(target_test, predictions))"
      ],
      "execution_count": 3,
      "outputs": [
        {
          "output_type": "stream",
          "text": [
            "[[ 8  0  0]\n",
            " [ 0 10  0]\n",
            " [ 0  2 10]]\n",
            "0.9333333333333333\n"
          ],
          "name": "stdout"
        }
      ]
    }
  ]
}