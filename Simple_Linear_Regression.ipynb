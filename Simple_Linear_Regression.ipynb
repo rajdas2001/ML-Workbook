{
  "nbformat": 4,
  "nbformat_minor": 0,
  "metadata": {
    "colab": {
      "name": "Simple Linear Regression",
      "provenance": [],
      "authorship_tag": "ABX9TyOArcPvrNELgIT0su1LQ1kZ",
      "include_colab_link": true
    },
    "kernelspec": {
      "name": "python3",
      "display_name": "Python 3"
    },
    "language_info": {
      "name": "python"
    }
  },
  "cells": [
    {
      "cell_type": "markdown",
      "metadata": {
        "id": "view-in-github",
        "colab_type": "text"
      },
      "source": [
        "<a href=\"https://colab.research.google.com/github/rajdas2001/ML-Workbook/blob/main/Simple_Linear_Regression.ipynb\" target=\"_parent\"><img src=\"https://colab.research.google.com/assets/colab-badge.svg\" alt=\"Open In Colab\"/></a>"
      ]
    },
    {
      "cell_type": "code",
      "metadata": {
        "colab": {
          "base_uri": "https://localhost:8080/"
        },
        "id": "-xxk0SseENNP",
        "outputId": "f8cfc009-94b2-4339-e0c7-eb0dbffd0b25"
      },
      "source": [
        "import numpy as np\n",
        "import matplotlib.pyplot as plt\n",
        "from sklearn.linear_model import LinearRegression\n",
        "x = np.array([[0], [1], [2], [3], [4], [5], [6], [7], [8], [9]])\n",
        "y = np.array([[1], [3], [2], [5], [7], [8], [8], [9], [10], [12]])\n",
        "\n",
        "model = LinearRegression()\n",
        "model.fit(x,y)\n",
        "model.predict([[6]])"
      ],
      "execution_count": 5,
      "outputs": [
        {
          "output_type": "execute_result",
          "data": {
            "text/plain": [
              "array([[8.25454545]])"
            ]
          },
          "metadata": {
            "tags": []
          },
          "execution_count": 5
        }
      ]
    }
  ]
}