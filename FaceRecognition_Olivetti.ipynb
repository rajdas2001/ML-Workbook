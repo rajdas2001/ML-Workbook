{
  "nbformat": 4,
  "nbformat_minor": 0,
  "metadata": {
    "colab": {
      "name": "FaceRecognition-Olivetti.ipynb",
      "provenance": [],
      "authorship_tag": "ABX9TyMNZTySbZl3anGjkiRJgxEG",
      "include_colab_link": true
    },
    "kernelspec": {
      "name": "python3",
      "display_name": "Python 3"
    },
    "language_info": {
      "name": "python"
    }
  },
  "cells": [
    {
      "cell_type": "markdown",
      "metadata": {
        "id": "view-in-github",
        "colab_type": "text"
      },
      "source": [
        "<a href=\"https://colab.research.google.com/github/rajdas2001/ML-Workbook/blob/main/FaceRecognition_Olivetti.ipynb\" target=\"_parent\"><img src=\"https://colab.research.google.com/assets/colab-badge.svg\" alt=\"Open In Colab\"/></a>"
      ]
    },
    {
      "cell_type": "code",
      "metadata": {
        "id": "wam4LPB2L83o",
        "colab": {
          "base_uri": "https://localhost:8080/"
        },
        "outputId": "d4c0145c-fb8e-4051-ced7-0fab8633e020"
      },
      "source": [
        "from sklearn.datasets import fetch_olivetti_faces\n",
        "import matplotlib.pyplot as plt\n",
        "from sklearn.model_selection import train_test_split\n",
        "from sklearn.decomposition import PCA\n",
        "from sklearn.naive_bayes import GaussianNB\n",
        "from sklearn.model_selection import KFold\n",
        "from sklearn.linear_model import LogisticRegression\n",
        "from sklearn.model_selection import cross_val_score\n",
        "from sklearn.svm import SVC\n",
        "from sklearn import metrics\n",
        "import numpy as np\n",
        "\n",
        "olivetti_data = fetch_olivetti_faces()\n",
        "\n",
        "# there are 400 images - 10x40 (40 people - 1 person has 10 images) - 1 image = 64x64 pixels\n",
        "features = olivetti_data.data\n",
        "# we represent target variables (people) with integers (face ids)\n",
        "targets = olivetti_data.target\n",
        "\n",
        "# split the original data-set (training and test set)\n",
        "X_train, X_test, y_train, y_test = train_test_split(features, targets, test_size=0.25, stratify=targets, random_state=0)\n",
        "\n",
        "# let's try to find the optimal number of eigenvectors (principle components)\n",
        "pca = PCA(n_components=100, whiten=True)\n",
        "pca.fit(X_train)\n",
        "X_pca = pca.fit_transform(features)\n",
        "\n",
        "X_train_pca = pca.transform(X_train)\n",
        "X_test_pca = pca.transform(X_test)\n",
        "\n",
        "# let's use the machine learning models\n",
        "\n",
        "models = [(\"Logistic Regression\", LogisticRegression()), (\"Support Vector Machine\", SVC()), (\"Naive Bayes Classifier\", GaussianNB())]\n",
        "\n",
        "for name, model in models:\n",
        "\n",
        "    kfold = KFold(n_splits=5, shuffle=True, random_state=0)\n",
        "    cv_scores = cross_val_score(model, X_pca, targets, cv=kfold)\n",
        "    print(\"Mean of the cross-validation scores: %s\" % cv_scores.mean())\n"
      ],
      "execution_count": 1,
      "outputs": [
        {
          "output_type": "stream",
          "text": [
            "downloading Olivetti faces from https://ndownloader.figshare.com/files/5976027 to /root/scikit_learn_data\n",
            "Mean of the cross-validation scores: 0.9400000000000001\n",
            "Mean of the cross-validation scores: 0.8550000000000001\n",
            "Mean of the cross-validation scores: 0.7625\n"
          ],
          "name": "stdout"
        }
      ]
    },
    {
      "cell_type": "code",
      "metadata": {
        "colab": {
          "base_uri": "https://localhost:8080/"
        },
        "id": "TdR8LicYh14K",
        "outputId": "5433c1f3-e9b0-4362-a1bf-4aaa0e79a283"
      },
      "source": [
        "from sklearn.datasets import fetch_olivetti_faces\n",
        "import matplotlib.pyplot as plt\n",
        "from sklearn.model_selection import train_test_split\n",
        "from sklearn.decomposition import PCA\n",
        "from sklearn.naive_bayes import GaussianNB\n",
        "from sklearn.model_selection import KFold\n",
        "from sklearn.linear_model import LogisticRegression\n",
        "from sklearn.model_selection import cross_val_score\n",
        "from sklearn.svm import SVC\n",
        "from sklearn import metrics\n",
        "import numpy as np\n",
        "\n",
        "olivetti_data = fetch_olivetti_faces()\n",
        "features = olivetti_data.data\n",
        "targets = olivetti_data.target\n",
        "\n",
        "X_train, X_test, y_train, y_test = train_test_split(features, targets, test_size=0.25, stratify=targets, random_state=0)\n",
        "pca = PCA(n_components=100, whiten=True)\n",
        "pca.fit(X_train)\n",
        "x_pca = pca.fit_transform(features)\n",
        "x_train_pca = pca.transform(X_train)\n",
        "x_test_pca = pca.transform(X_test)\n",
        "\n",
        "models = [(\"Logistic Regression\", LogisticRegression()), (\"Support Vector Machine\", SVC()), (\"Naive Bayes Classifier\", GaussianNB())]\n",
        "\n",
        "for name, model in models:\n",
        "\n",
        "    kfold = KFold(n_splits=5, shuffle=True, random_state=0)\n",
        "    cv_scores = cross_val_score(model, X_pca, targets, cv=kfold)\n",
        "    print(\"Mean of the cross-validation scores: %s\" % cv_scores.mean())"
      ],
      "execution_count": 2,
      "outputs": [
        {
          "output_type": "stream",
          "text": [
            "Mean of the cross-validation scores: 0.9400000000000001\n",
            "Mean of the cross-validation scores: 0.8550000000000001\n",
            "Mean of the cross-validation scores: 0.7625\n"
          ],
          "name": "stdout"
        }
      ]
    }
  ]
}