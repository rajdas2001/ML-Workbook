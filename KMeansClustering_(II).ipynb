{
  "nbformat": 4,
  "nbformat_minor": 0,
  "metadata": {
    "colab": {
      "name": "KMeansClustering (II).ipynb",
      "provenance": [],
      "authorship_tag": "ABX9TyNu9lVZENdB2dKen/jra8VK",
      "include_colab_link": true
    },
    "kernelspec": {
      "name": "python3",
      "display_name": "Python 3"
    },
    "language_info": {
      "name": "python"
    }
  },
  "cells": [
    {
      "cell_type": "markdown",
      "metadata": {
        "id": "view-in-github",
        "colab_type": "text"
      },
      "source": [
        "<a href=\"https://colab.research.google.com/github/rajdas2001/ML-Workbook/blob/main/KMeansClustering_(II).ipynb\" target=\"_parent\"><img src=\"https://colab.research.google.com/assets/colab-badge.svg\" alt=\"Open In Colab\"/></a>"
      ]
    },
    {
      "cell_type": "code",
      "metadata": {
        "colab": {
          "base_uri": "https://localhost:8080/",
          "height": 416
        },
        "id": "1I10iARdLt1U",
        "outputId": "3a2f19b2-ec60-421f-a084-ed4020a5df22"
      },
      "source": [
        "import numpy as np\n",
        "import matplotlib.pyplot as plt\n",
        "from matplotlib import style\n",
        "style.use(\"ggplot\")\n",
        "from sklearn.cluster import KMeans\n",
        "\n",
        "x=[1,5,1.5,8,1,9]\n",
        "y=[2,8,1.8,8,0.6,11]\n",
        "\n",
        "plt.scatter(x,y)\n",
        "\n",
        "array = np.array([[1,2],[5,8],[1.5,1.8],[8,8],[1,0.6],[9,11]])\n",
        "kmeans = KMeans(n_clusters=2)\n",
        "kmeans.fit(array)\n",
        "\n",
        "centroids = kmeans.cluster_centers_\n",
        "labels = kmeans.labels_\n",
        "\n",
        "print(centroids)\n",
        "print(labels)\n",
        "\n",
        "colors = [\"g.\",\"r.\"]\n",
        "\n",
        "for i in range(len(x)):\n",
        "\tprint(\"Coordinate: \", array[i], \" label: \", labels[i])\n",
        "\tplt.plot(array[i][0],array[i][1],colors[labels[i]], markersize=10)\n",
        "\t\n",
        "plt.scatter(centroids[:,0],centroids[:,1], marker=\"x\",s=150,linewidth=5,zorder=10)\n",
        "plt.show()\n"
      ],
      "execution_count": 2,
      "outputs": [
        {
          "output_type": "stream",
          "text": [
            "[[1.16666667 1.46666667]\n",
            " [7.33333333 9.        ]]\n",
            "[0 1 0 1 0 1]\n",
            "Coordinate:  [1. 2.]  label:  0\n",
            "Coordinate:  [5. 8.]  label:  1\n",
            "Coordinate:  [1.5 1.8]  label:  0\n",
            "Coordinate:  [8. 8.]  label:  1\n",
            "Coordinate:  [1.  0.6]  label:  0\n",
            "Coordinate:  [ 9. 11.]  label:  1\n"
          ],
          "name": "stdout"
        },
        {
          "output_type": "display_data",
          "data": {
            "image/png": "[encoded data removed]",
            "text/plain": [
              "<Figure size 432x288 with 1 Axes>"
            ]
          },
          "metadata": {
            "tags": []
          }
        }
      ]
    }
  ]
}