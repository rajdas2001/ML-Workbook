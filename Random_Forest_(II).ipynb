{
  "nbformat": 4,
  "nbformat_minor": 0,
  "metadata": {
    "colab": {
      "name": "Random Forest (II)",
      "provenance": [],
      "authorship_tag": "ABX9TyMY+t5JP6kB0aun+P0RHaLT",
      "include_colab_link": true
    },
    "kernelspec": {
      "name": "python3",
      "display_name": "Python 3"
    },
    "language_info": {
      "name": "python"
    }
  },
  "cells": [
    {
      "cell_type": "markdown",
      "metadata": {
        "id": "view-in-github",
        "colab_type": "text"
      },
      "source": [
        "<a href=\"https://colab.research.google.com/github/rajdas2001/ML-Workbook/blob/main/Random_Forest_(II).ipynb\" target=\"_parent\"><img src=\"https://colab.research.google.com/assets/colab-badge.svg\" alt=\"Open In Colab\"/></a>"
      ]
    },
    {
      "cell_type": "code",
      "metadata": {
        "colab": {
          "base_uri": "https://localhost:8080/"
        },
        "id": "4ghSNGEtlPCV",
        "outputId": "89dfcb8d-ac31-47cd-facc-8dfb4e337984"
      },
      "source": [
        "from sklearn.ensemble import RandomForestClassifier\n",
        "from sklearn.model_selection import GridSearchCV\n",
        "from sklearn import model_selection\n",
        "from sklearn import datasets\n",
        "from sklearn.model_selection import train_test_split\n",
        "from sklearn.metrics import accuracy_score\n",
        "\n",
        "dataset = datasets.load_digits()\n",
        "\n",
        "image_features = dataset.images.reshape((len(dataset.images), -1))\n",
        "image_targets = dataset.target\n",
        "\n",
        "random_forest_model = RandomForestClassifier(n_jobs=-1,max_features='sqrt')\n",
        "\n",
        "feature_train, feature_test, target_train, target_test = train_test_split(image_features, image_targets, test_size=.2)\n",
        "\n",
        "param_grid = {\n",
        "    \"n_estimators\" : [10,100,500,1000],\n",
        "    \"max_depth\" : [1,5,10,15],\n",
        "    \"min_samples_leaf\" : [1,2,3,4,5,10,15,20,30,40,50]              \n",
        "}\n",
        "\n",
        "grid_search = GridSearchCV(estimator=random_forest_model, param_grid=param_grid, cv=10)\n",
        "grid_search.fit(feature_train, target_train)\n",
        "print(grid_search.best_params_)\n",
        "\n",
        "optimal_estimators = grid_search.best_params_.get(\"n_estimators\")\n",
        "optimal_depth = grid_search.best_params_.get(\"max_depth\")\n",
        "optimal_leaf = grid_search.best_params_.get(\"min_samples_leaf\")\n",
        "\n",
        "best_model = RandomForestClassifier(n_estimators=optimal_estimators, max_depth=optimal_depth, max_features='sqrt', min_samples_leaf = optimal_leaf)\n",
        "k_fold = model_selection.KFold(n_splits=10, random_state=123)\n",
        "\n",
        "predictions = model_selection.cross_val_predict(best_model, feature_test, target_test, cv=k_fold)\n",
        "print(\"Accuracy of the tuned model: \", accuracy_score(target_test, predictions))"
      ],
      "execution_count": 1,
      "outputs": [
        {
          "output_type": "stream",
          "text": [
            "{'max_depth': 10, 'min_samples_leaf': 1, 'n_estimators': 100}\n"
          ],
          "name": "stdout"
        },
        {
          "output_type": "stream",
          "text": [
            "/usr/local/lib/python3.7/dist-packages/sklearn/model_selection/_split.py:296: FutureWarning: Setting a random_state has no effect since shuffle is False. This will raise an error in 0.24. You should leave random_state to its default (None), or set shuffle=True.\n",
            "  FutureWarning\n"
          ],
          "name": "stderr"
        },
        {
          "output_type": "stream",
          "text": [
            "Accuracy of the tuned model:  0.9305555555555556\n"
          ],
          "name": "stdout"
        }
      ]
    }
  ]
}