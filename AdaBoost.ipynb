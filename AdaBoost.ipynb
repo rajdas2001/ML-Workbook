{
  "nbformat": 4,
  "nbformat_minor": 0,
  "metadata": {
    "colab": {
      "name": "AdaBoost.ipynb",
      "provenance": [],
      "authorship_tag": "ABX9TyOFkMi9Atmv9uKaXAk8QBBt",
      "include_colab_link": true
    },
    "kernelspec": {
      "name": "python3",
      "display_name": "Python 3"
    },
    "language_info": {
      "name": "python"
    }
  },
  "cells": [
    {
      "cell_type": "markdown",
      "metadata": {
        "id": "view-in-github",
        "colab_type": "text"
      },
      "source": [
        "<a href=\"https://colab.research.google.com/github/rajdas2001/ML-Workbook/blob/main/AdaBoost.ipynb\" target=\"_parent\"><img src=\"https://colab.research.google.com/assets/colab-badge.svg\" alt=\"Open In Colab\"/></a>"
      ]
    },
    {
      "cell_type": "code",
      "metadata": {
        "id": "GCh19hp_eU_r",
        "colab": {
          "base_uri": "https://localhost:8080/"
        },
        "outputId": "2f89a7bd-f987-4802-d04d-ede1e2fe8616"
      },
      "source": [
        "from sklearn import datasets\n",
        "from sklearn.ensemble import AdaBoostClassifier\n",
        "from sklearn.metrics import confusion_matrix\n",
        "from sklearn.metrics import accuracy_score\n",
        "from sklearn.model_selection import train_test_split\n",
        "\n",
        "iris_data = datasets.load_iris()\n",
        "features = iris_data.data\n",
        "targets = iris_data.target\n",
        "\n",
        "feature_train, feature_test, target_train, target_test = train_test_split(features, targets, test_size=0.2)\n",
        "model = AdaBoostClassifier(n_estimators=100, learning_rate=1, random_state=123)\n",
        "model.fitted = model.fit(feature_train,target_train)\n",
        "model.predictions = model.fitted.predict(feature_test)\n",
        "\n",
        "print(confusion_matrix(target_test,model.predictions))\n",
        "print(accuracy_score(target_test,model.predictions))"
      ],
      "execution_count": 6,
      "outputs": [
        {
          "output_type": "stream",
          "text": [
            "[[ 8  0  0]\n",
            " [ 0 12  1]\n",
            " [ 0  0  9]]\n",
            "0.9666666666666667\n"
          ],
          "name": "stdout"
        }
      ]
    }
  ]
}