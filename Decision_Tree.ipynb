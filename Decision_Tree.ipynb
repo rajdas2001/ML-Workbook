{
  "nbformat": 4,
  "nbformat_minor": 0,
  "metadata": {
    "colab": {
      "name": "Decision Tree.ipynb",
      "provenance": [],
      "authorship_tag": "ABX9TyPU8w3rTxRRDSoXK36948xZ",
      "include_colab_link": true
    },
    "kernelspec": {
      "name": "python3",
      "display_name": "Python 3"
    },
    "language_info": {
      "name": "python"
    }
  },
  "cells": [
    {
      "cell_type": "markdown",
      "metadata": {
        "id": "view-in-github",
        "colab_type": "text"
      },
      "source": [
        "<a href=\"https://colab.research.google.com/github/rajdas2001/ML-Workbook/blob/main/Decision_Tree.ipynb\" target=\"_parent\"><img src=\"https://colab.research.google.com/assets/colab-badge.svg\" alt=\"Open In Colab\"/></a>"
      ]
    },
    {
      "cell_type": "code",
      "metadata": {
        "colab": {
          "base_uri": "https://localhost:8080/"
        },
        "id": "oiitpDN2MlWZ",
        "outputId": "63352793-16c1-4e6a-9ba0-fb6897f7abc8"
      },
      "source": [
        "import numpy as np\n",
        "from sklearn.tree import DecisionTreeClassifier\n",
        "from sklearn.model_selection import train_test_split\n",
        "from sklearn.model_selection import cross_validate\n",
        "from sklearn.metrics import confusion_matrix\n",
        "from sklearn.metrics import accuracy_score\n",
        "from sklearn import datasets\n",
        "\n",
        "iris_data = datasets.load_iris()\n",
        "features = iris_data.data\n",
        "targets = iris_data.target\n",
        "\n",
        "feature_train, feature_test, target_train, traget_test = train_test_split(features, targets, test_size=0.2)\n",
        "model = DecisionTreeClassifier(criterion='entropy')\n",
        "predicted = cross_validate(model, features, targets, cv=10)\n",
        "print(np.mean(predicted['test_score']))"
      ],
      "execution_count": 5,
      "outputs": [
        {
          "output_type": "stream",
          "text": [
            "0.9533333333333334\n"
          ],
          "name": "stdout"
        }
      ]
    },
    {
      "cell_type": "code",
      "metadata": {
        "colab": {
          "base_uri": "https://localhost:8080/"
        },
        "id": "nKZQaKsAYrnx",
        "outputId": "52474cdc-2fa3-49e4-9400-318823358ff5"
      },
      "source": [
        "import numpy as np\n",
        "from sklearn.tree import DecisionTreeClassifier\n",
        "from sklearn.model_selection import train_test_split\n",
        "from sklearn.model_selection import cross_validate\n",
        "from sklearn.metrics import confusion_matrix\n",
        "from sklearn.metrics import accuracy_score\n",
        "from sklearn import datasets\n",
        "\n",
        "iris_data = datasets.load_iris()\n",
        "features = iris_data.data\n",
        "targets = iris_data.target\n",
        "\n",
        "feature_train, feature_test, target_train, traget_test = train_test_split(features, targets, test_size=0.2)\n",
        "model = DecisionTreeClassifier(criterion='gini')\n",
        "predicted = cross_validate(model, features, targets, cv=10)\n",
        "print(np.mean(predicted['test_score']))"
      ],
      "execution_count": 6,
      "outputs": [
        {
          "output_type": "stream",
          "text": [
            "0.9533333333333334\n"
          ],
          "name": "stdout"
        }
      ]
    },
    {
      "cell_type": "code",
      "metadata": {
        "colab": {
          "base_uri": "https://localhost:8080/"
        },
        "id": "3LBLHSR5Yu80",
        "outputId": "bd5d9849-6246-4033-8c07-dfdd7e163a68"
      },
      "source": [
        "import numpy as np\n",
        "from sklearn.tree import DecisionTreeClassifier\n",
        "from sklearn.model_selection import train_test_split\n",
        "from sklearn.model_selection import cross_validate\n",
        "from sklearn.metrics import confusion_matrix\n",
        "from sklearn.metrics import accuracy_score\n",
        "from sklearn import datasets\n",
        "\n",
        "iris_data = datasets.load_iris()\n",
        "features = iris_data.data\n",
        "targets = iris_data.target\n",
        "\n",
        "feature_train, feature_test, target_train, traget_test = train_test_split(features, targets, test_size=0.2)\n",
        "model = DecisionTreeClassifier()\n",
        "predicted = cross_validate(model, features, targets, cv=10)\n",
        "print(np.mean(predicted['test_score']))"
      ],
      "execution_count": 7,
      "outputs": [
        {
          "output_type": "stream",
          "text": [
            "0.96\n"
          ],
          "name": "stdout"
        }
      ]
    }
  ]
}